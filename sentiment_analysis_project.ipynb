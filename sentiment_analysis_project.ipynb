{
 "cells": [
  {
   "cell_type": "markdown",
   "id": "4618fd82",
   "metadata": {},
   "source": [
    "# 🎯 Sentiment Analysis on Movie Reviews\n",
    "\n",
    "This beginner project demonstrates how to perform basic sentiment analysis using Python and scikit-learn.\n",
    "\n",
    "We’ll classify movie reviews as **positive** or **negative**."
   ]
  },
  {
   "cell_type": "code",
   "execution_count": null,
   "id": "76f56d1b",
   "metadata": {},
   "outputs": [],
   "source": [
    "# 📦 Step 1: Install and import required libraries\n",
    "import pandas as pd\n",
    "from sklearn.model_selection import train_test_split\n",
    "from sklearn.feature_extraction.text import CountVectorizer\n",
    "from sklearn.linear_model import LogisticRegression\n",
    "from sklearn.metrics import accuracy_score, classification_report"
   ]
  },
  {
   "cell_type": "code",
   "execution_count": null,
   "id": "266630f9",
   "metadata": {},
   "outputs": [],
   "source": [
    "# 📊 Step 2: Load sample data\n",
    "data = pd.DataFrame({\n",
    "    'review': [\n",
    "        'I loved the movie, it was fantastic!',\n",
    "        'What a terrible film. Waste of time.',\n",
    "        'Amazing story and great acting.',\n",
    "        'I did not like the movie at all.',\n",
    "        'Best movie of the year!',\n",
    "        'Awful movie. I walked out halfway.',\n",
    "        'Incredible plot and stunning visuals.',\n",
    "        'Poorly written and poorly directed.',\n",
    "        'Truly inspiring and uplifting.',\n",
    "        'Terrible, just terrible.'\n",
    "    ],\n",
    "    'sentiment': [1, 0, 1, 0, 1, 0, 1, 0, 1, 0]  # 1 = Positive, 0 = Negative\n",
    "})\n",
    "data"
   ]
  },
  {
   "cell_type": "code",
   "execution_count": null,
   "id": "40f7d589",
   "metadata": {},
   "outputs": [],
   "source": [
    "# 🧹 Step 3: Preprocessing\n",
    "X = data['review']\n",
    "y = data['sentiment']\n",
    "\n",
    "vectorizer = CountVectorizer()\n",
    "X_vectorized = vectorizer.fit_transform(X)\n",
    "\n",
    "# Split into train and test\n",
    "X_train, X_test, y_train, y_test = train_test_split(X_vectorized, y, test_size=0.2, random_state=42)"
   ]
  },
  {
   "cell_type": "code",
   "execution_count": null,
   "id": "c13d65de",
   "metadata": {},
   "outputs": [],
   "source": [
    "# 🤖 Step 4: Train a logistic regression model\n",
    "model = LogisticRegression()\n",
    "model.fit(X_train, y_train)\n",
    "\n",
    "# Predict\n",
    "y_pred = model.predict(X_test)\n",
    "\n",
    "# Evaluate\n",
    "print(\"Accuracy:\", accuracy_score(y_test, y_pred))\n",
    "print(\"\\nClassification Report:\\n\", classification_report(y_test, y_pred))"
   ]
  },
  {
   "cell_type": "code",
   "execution_count": null,
   "id": "4fe4f096",
   "metadata": {},
   "outputs": [],
   "source": [
    "# 🔍 Step 5: Try your own review!\n",
    "your_review = [\"The movie was absolutely wonderful and touching.\"]\n",
    "your_review_vector = vectorizer.transform(your_review)\n",
    "prediction = model.predict(your_review_vector)\n",
    "print(\"Predicted Sentiment:\", \"Positive\" if prediction[0] == 1 else \"Negative\")"
   ]
  }
 ],
 "metadata": {
  "kernelspec": {
   "display_name": "Python 3",
   "language": "python",
   "name": "python3"
  },
  "language_info": {
   "name": "python",
   "version": "3.10"
  }
 },
 "nbformat": 4,
 "nbformat_minor": 5
}
